{
 "cells": [
  {
   "cell_type": "code",
   "execution_count": 6,
   "metadata": {},
   "outputs": [
    {
     "name": "stdout",
     "output_type": "stream",
     "text": [
      "Enter the number to calculate the factorial: 5\n",
      "120\n"
     ]
    }
   ],
   "source": [
    "def fact(num):\n",
    "    if num == 0:\n",
    "        return 1\n",
    "    else:\n",
    "        return num * fact(num-1)\n",
    "result = int(input(\"Enter the number to calculate the factorial: \"))\n",
    "print(fact(result))"
   ]
  },
  {
   "cell_type": "code",
   "execution_count": 12,
   "metadata": {},
   "outputs": [
    {
     "name": "stdout",
     "output_type": "stream",
     "text": [
      "2\n",
      "4\n",
      "6\n",
      "8\n",
      "10\n"
     ]
    }
   ],
   "source": [
    "numbers = [1,2,3,4,5,6,7,8,9,10]\n",
    "\n",
    "def even(numbers):\n",
    "    for i in numbers:\n",
    "        if i % 2 == 0:\n",
    "            print(i)\n",
    "        \n",
    "even(numbers)"
   ]
  },
  {
   "cell_type": "code",
   "execution_count": 2,
   "metadata": {},
   "outputs": [
    {
     "name": "stdout",
     "output_type": "stream",
     "text": [
      "Original String :  I Love Lionel MEssi\n",
      "No. of Upper case characters :  5\n",
      "No. of Lower case Characters :  11\n"
     ]
    }
   ],
   "source": [
    "def check_string(str):\n",
    "    dict={\n",
    "        \"upper_case\": 0,\n",
    "        \"lower_case\": 0,\n",
    "      }\n",
    "    \n",
    "    for i in str:\n",
    "        if i.isupper():\n",
    "            dict[\"upper_case\"] += 1\n",
    "        elif i.islower():\n",
    "            dict[\"lower_case\"] += 1\n",
    "        else:\n",
    "            pass\n",
    "    print (\"Original String : \", str)\n",
    "    print (\"No. of Upper case characters : \", dict[\"upper_case\"])\n",
    "    print (\"No. of Lower case Characters : \", dict[\"lower_case\"])\n",
    "            \n",
    "check_string(\"I Love Lionel MEssi\")"
   ]
  },
  {
   "cell_type": "code",
   "execution_count": 6,
   "metadata": {},
   "outputs": [
    {
     "name": "stdout",
     "output_type": "stream",
     "text": [
      "False\n"
     ]
    }
   ],
   "source": [
    "def ispalindrome(string):\n",
    "    left_pos = 0\n",
    "    right_pos = len(string) - 1\n",
    "    \n",
    "    while right_pos >= left_pos:\n",
    "        if not string[left_pos] == string[right_pos]:\n",
    "            return False\n",
    "        left_pos += 1\n",
    "        right_pos -= 1\n",
    "    return True\n",
    "print(ispalindrome('Hamza')) "
   ]
  },
  {
   "cell_type": "code",
   "execution_count": 9,
   "metadata": {},
   "outputs": [
    {
     "name": "stdout",
     "output_type": "stream",
     "text": [
      "True\n"
     ]
    }
   ],
   "source": [
    "def test_prime(number):\n",
    "    if (number == 1):\n",
    "        return False\n",
    "    elif (number == 2):\n",
    "        return True\n",
    "    else:\n",
    "        for i in range(2, number):\n",
    "            if(number % i == 0):\n",
    "                return False\n",
    "        return True             \n",
    "print(test_prime(3))"
   ]
  },
  {
   "cell_type": "code",
   "execution_count": 17,
   "metadata": {},
   "outputs": [
    {
     "name": "stdout",
     "output_type": "stream",
     "text": [
      "My name is Hamza Anis..I bought\n",
      "Jeans\n",
      "Perfume\n",
      "Some Shirts\n",
      "Shoes\n",
      "Sandals\n"
     ]
    }
   ],
   "source": [
    "def shopping_list(fname, lname, *others):\n",
    "    print(f\"My name is {fname} {lname}..I bought\")\n",
    "    \n",
    "    for i in others:\n",
    "        print(i)\n",
    "    \n",
    "    \n",
    "shopping_list(\"Hamza\", \"Anis\", \"Jeans\", \"Perfume\", \"Some Shirts\", \"Shoes\", \"Sandals\")    "
   ]
  },
  {
   "cell_type": "code",
   "execution_count": null,
   "metadata": {},
   "outputs": [],
   "source": []
  }
 ],
 "metadata": {
  "kernelspec": {
   "display_name": "Python 3",
   "language": "python",
   "name": "python3"
  },
  "language_info": {
   "codemirror_mode": {
    "name": "ipython",
    "version": 3
   },
   "file_extension": ".py",
   "mimetype": "text/x-python",
   "name": "python",
   "nbconvert_exporter": "python",
   "pygments_lexer": "ipython3",
   "version": "3.7.3"
  }
 },
 "nbformat": 4,
 "nbformat_minor": 2
}
