{
 "cells": [
  {
   "cell_type": "code",
   "execution_count": 6,
   "metadata": {},
   "outputs": [
    {
     "name": "stdout",
     "output_type": "stream",
     "text": [
      "Enter the first value: 6\n",
      "Enter the second value: 2\n",
      "Enter operator: p\n",
      "36\n"
     ]
    }
   ],
   "source": [
    "var1 = int(input(\"Enter the first value: \"))\n",
    "var2 = int(input(\"Enter the second value: \"))\n",
    "op   = input(\"Enter operator: \")\n",
    "if(op == '+'):\n",
    "    var = var1 + var2\n",
    "    print(var , \"answer\")\n",
    "elif(op == '-'):\n",
    "    var = var1 - var2\n",
    "    print(var , \"answer\")\n",
    "elif(op == '*'):\n",
    "    var = var1 * var2\n",
    "    print(var , \"answer\")\n",
    "elif(op == '/'):\n",
    "    var = var1 / var2\n",
    "    print(var , \"answer\")\n",
    "elif(op == 'p'):\n",
    "    var = var1 ** var2\n",
    "    print(var)\n",
    "else:\n",
    "    print(\"Enter the correct opertor..please\")\n"
   ]
  },
  {
   "cell_type": "code",
   "execution_count": 7,
   "metadata": {},
   "outputs": [
    {
     "name": "stdout",
     "output_type": "stream",
     "text": [
      "It is strings\n",
      "It is numeric value\n",
      "It is strings\n",
      "It is numeric value\n",
      "It is strings\n",
      "It is numeric value\n"
     ]
    }
   ],
   "source": [
    "list = [\"Messi\", 10, \"Ronaldo\", 7, \"Zalatan\", 11]\n",
    "for i in list:\n",
    "    if (i == list[1]):\n",
    "        print(\"It is numeric value\")\n",
    "    elif(i == list[3]):\n",
    "        print(\"It is numeric value\")\n",
    "    elif(i == list[5]):\n",
    "        print(\"It is numeric value\")\n",
    "    else:\n",
    "        print(\"It is strings\")\n",
    "        "
   ]
  },
  {
   "cell_type": "code",
   "execution_count": 1,
   "metadata": {},
   "outputs": [
    {
     "name": "stdout",
     "output_type": "stream",
     "text": [
      "{'0': '10', '1': '20', '2': '30'}\n"
     ]
    }
   ],
   "source": [
    "dict = {\"0\": \"10\", \"1\": \"20\"}\n",
    "dict[\"2\"] = \"30\"\n",
    "print(dict)"
   ]
  },
  {
   "cell_type": "code",
   "execution_count": 5,
   "metadata": {},
   "outputs": [
    {
     "name": "stdout",
     "output_type": "stream",
     "text": [
      "60\n"
     ]
    }
   ],
   "source": [
    "dict = {\"0\": 10, \"1\": 20, \"2\": 30}\n",
    "print(sum(dict.values()))\n"
   ]
  },
  {
   "cell_type": "code",
   "execution_count": 27,
   "metadata": {},
   "outputs": [
    {
     "name": "stdout",
     "output_type": "stream",
     "text": [
      "Checking if key 2 exists in dictionary ( using loop ) : \n",
      "Key does not exist\n",
      "Key Exists\n",
      "Key does not exist\n"
     ]
    }
   ],
   "source": [
    "dictionary = { \"1\": 6, \"2\": 5, \"3\": 4 }\n",
    "print(\"Checking if key 2 exists in dictionary ( using loop ) : \") \n",
    "  \n",
    "for i in dictionary:\n",
    "    if(i == \"2\"):\n",
    "        print (\"Key Exists\")\n",
    "    else:\n",
    "        print(\"Key does not exist\")\n",
    "  \n"
   ]
  },
  {
   "cell_type": "code",
   "execution_count": 1,
   "metadata": {},
   "outputs": [
    {
     "name": "stdout",
     "output_type": "stream",
     "text": [
      "Below is our original list\n",
      "[10, 20, 30, 20, 10, 50, 60, 40, 80, 50, 40]\n",
      "Below are the duplicate values from the original list\n",
      "{40, 10, 20, 50}\n"
     ]
    }
   ],
   "source": [
    "a = [10,20,30,20,10,50,60,40,80,50,40]\n",
    "\n",
    "dup_items = set()\n",
    "uniq_items = []\n",
    "dupl_values=[]\n",
    "dupl_items=set()\n",
    "for x in a:\n",
    "    if x not in dup_items:\n",
    "        uniq_items.append(x)\n",
    "        dup_items.add(x)\n",
    "    elif x in dup_items:\n",
    "        dupl_values.append(x)\n",
    "        dupl_items.add(x)\n",
    "        \n",
    "print(\"Below is our original list\")\n",
    "print(a);\n",
    "print(\"Below are the duplicate values from the original list\")\n",
    "print(dupl_items)"
   ]
  },
  {
   "cell_type": "code",
   "execution_count": null,
   "metadata": {},
   "outputs": [],
   "source": []
  }
 ],
 "metadata": {
  "kernelspec": {
   "display_name": "Python 3",
   "language": "python",
   "name": "python3"
  },
  "language_info": {
   "codemirror_mode": {
    "name": "ipython",
    "version": 3
   },
   "file_extension": ".py",
   "mimetype": "text/x-python",
   "name": "python",
   "nbconvert_exporter": "python",
   "pygments_lexer": "ipython3",
   "version": "3.7.3"
  }
 },
 "nbformat": 4,
 "nbformat_minor": 2
}
