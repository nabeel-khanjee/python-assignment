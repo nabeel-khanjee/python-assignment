{
 "cells": [
  {
   "cell_type": "code",
   "execution_count": 9,
   "metadata": {},
   "outputs": [
    {
     "name": "stdout",
     "output_type": "stream",
     "text": [
      "Enter the marks for Subject 1: 50\n",
      "Enter the marks for Subject 2: 60\n",
      "Enter the marks for Subject 3: 70\n",
      "Enter the marks for Subject 4: 70\n",
      "Enter the marks for Subject 5: 40\n",
      "Grade is C\n"
     ]
    }
   ],
   "source": [
    "sub1 = int(input(\"Enter the marks for Subject 1: \"))\n",
    "sub2 = int(input(\"Enter the marks for Subject 2: \"))\n",
    "sub3 = int(input(\"Enter the marks for Subject 3: \"))\n",
    "sub4 = int(input(\"Enter the marks for Subject 4: \"))\n",
    "sub5 = int(input(\"Enter the marks for Subject 5: \"))\n",
    "total = sub1 + sub2 + sub3 + sub4 + sub5\n",
    "avg = total / 5\n",
    "\n",
    "if(avg >= 80):\n",
    "    print(\"Grade is A+\")\n",
    "elif(avg >= 70 and avg <= 79):\n",
    "    print(\"Grade is A\")\n",
    "elif(avg >= 60 and avg <= 69):\n",
    "    print(\"Grade is B\")\n",
    "elif(avg >= 50 and avg <= 59):\n",
    "    print(\"Grade is C\")\n",
    "else:\n",
    "    print(\"You Failed the exam\")"
   ]
  },
  {
   "cell_type": "code",
   "execution_count": 15,
   "metadata": {},
   "outputs": [
    {
     "name": "stdout",
     "output_type": "stream",
     "text": [
      "Enter the number: 11\n",
      "Odd Number\n"
     ]
    }
   ],
   "source": [
    "num = int(input(\"Enter the number: \"))\n",
    "ans = num % 2\n",
    "if (ans == 0):\n",
    "    print(\"Even Number\")\n",
    "else:\n",
    "    print(\"Odd Number\")\n",
    "\n"
   ]
  },
  {
   "cell_type": "code",
   "execution_count": 26,
   "metadata": {},
   "outputs": [
    {
     "name": "stdout",
     "output_type": "stream",
     "text": [
      "Length of the list is:  5\n"
     ]
    }
   ],
   "source": [
    "list = len([\"Messi\",\"Ronaldo\",10,7,\"BSCS\"])\n",
    "print(\"Length of the list is: \", list)"
   ]
  },
  {
   "cell_type": "code",
   "execution_count": 27,
   "metadata": {},
   "outputs": [
    {
     "name": "stdout",
     "output_type": "stream",
     "text": [
      "13\n"
     ]
    }
   ],
   "source": [
    "def sum_list(items):\n",
    "    sum_numbers = 0\n",
    "    for x in items:\n",
    "        sum_numbers += x\n",
    "    return sum_numbers\n",
    "print(sum_list([1,2,10]))"
   ]
  },
  {
   "cell_type": "code",
   "execution_count": 28,
   "metadata": {},
   "outputs": [
    {
     "name": "stdout",
     "output_type": "stream",
     "text": [
      "8\n"
     ]
    }
   ],
   "source": [
    "def max_num_in_list( list ):\n",
    "    max = list[ 0 ]\n",
    "    for a in list:\n",
    "        if a > max:\n",
    "            max = a\n",
    "    return max\n",
    "print(max_num_in_list([1, 2, 8, 7]))\n"
   ]
  },
  {
   "cell_type": "code",
   "execution_count": 53,
   "metadata": {},
   "outputs": [
    {
     "name": "stdout",
     "output_type": "stream",
     "text": [
      "[1]\n",
      "[1, 1]\n",
      "[1, 1, 2]\n",
      "[1, 1, 2, 3]\n",
      "[1, 1, 2, 3, 5]\n"
     ]
    }
   ],
   "source": [
    "a = [1, 1, 2, 3, 5, 8, 13, 21, 34, 55, 89]\n",
    "\n",
    "new_list = []\n",
    "\n",
    "for i in a:\n",
    "    if i <= 5:\n",
    "        new_list.append(i)\n",
    "        print(new_list)\n",
    "    \n",
    "  \n"
   ]
  },
  {
   "cell_type": "code",
   "execution_count": null,
   "metadata": {},
   "outputs": [],
   "source": []
  }
 ],
 "metadata": {
  "kernelspec": {
   "display_name": "Python 3",
   "language": "python",
   "name": "python3"
  },
  "language_info": {
   "codemirror_mode": {
    "name": "ipython",
    "version": 3
   },
   "file_extension": ".py",
   "mimetype": "text/x-python",
   "name": "python",
   "nbconvert_exporter": "python",
   "pygments_lexer": "ipython3",
   "version": "3.7.3"
  }
 },
 "nbformat": 4,
 "nbformat_minor": 2
}
