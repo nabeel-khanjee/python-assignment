{
 "cells": [
  {
   "cell_type": "markdown",
   "metadata": {},
   "source": [
    "q1: What is OOP ?\n",
    "\n",
    "Ans: OOP is a paradigm in which real-world objects are each viewed as separate entities having their own state which is modified only by built in procedures called methods"
   ]
  },
  {
   "cell_type": "markdown",
   "metadata": {},
   "source": [
    "q2: List down the benefits of OOP ?\n",
    "\n",
    "1: When working with object-oriented programming languages, you know exactly where to look. “Oh, the car object broke down? The problem must be in the Car class!” You don’t have to muck through anything else.\n",
    "\n",
    "That’s the beauty of encapsulation. Objects are self-contained, and each bit of functionality does its own thing while leaving the other bits alone. Also, this modality allows an IT team to work on multiple objects simultaneously while minimizing the chance that one person might duplicate someone else’s functionality.\n",
    "\n",
    "2: Suppose that in addition to your Car object, one colleague needs a RaceCar object, and another needs a Limousine object. Everyone builds their objects separately but discover commonalities between them. In fact, each object is really just a different kind of Car. This is where the inheritance technique saves time: Create one generic class (Car), and then define the subclasses (RaceCar and Limousine) that are to inherit the generic class’s traits.\n",
    "\n",
    "3: Riffing on this example, you now need just a few drivers, or functions, like “driveCar,” driveRaceCar” and “DriveLimousine.” RaceCarDrivers share some traits with LimousineDrivers, but other things, like RaceHelmets and BeverageSponsorships, are unique.\n",
    "\n",
    "This is where object-oriented programming’s sweet polymorphism comes into play. Because a single function can shape-shift to adapt to whichever class it’s in, you could create one function in the parent Car class called “drive” — not “driveCar” or “driveRaceCar,” but just “drive.” This one function would work with the RaceCarDriver, LimousineDriver, etc. In fact, you could even have “raceCar.drive(myRaceCarDriver)” or “limo.drive(myChauffeur).”\n",
    "\n",
    "4: Object-oriented programming is often the most natural and pragmatic approach, once you get the hang of it. OOP languages allows you to break down your software into bite-sized problems that you then can solve — one object at a time.\n",
    "\n",
    "This isn’t to say that OOP is the One True Way. However, the advantages of object-oriented programming are many. When you need to solve complex programming challenges and want to add code tools to your skill set, OOP is your friend — and has much greater longevity and utility than Pac-Man or parachute pants."
   ]
  },
  {
   "cell_type": "markdown",
   "metadata": {},
   "source": [
    "q3: Differentiate between function and method ? \n",
    "\n",
    "Ans: Python method is called on an object, unlike a function. ... Since we call a method on an object, it can access the data within it. A method may alter an object's state, but Python function usually only operates on it, and then prints something or returns a value."
   ]
  },
  {
   "cell_type": "markdown",
   "metadata": {},
   "source": [
    "q4: Define class ? \n",
    "\n",
    "Ans: Classes provide a means of bundling data and functionality together. Creating a new class creates a new type of object, allowing new instances of that type to be made. Each class instance can have attributes attached to it for maintaining its state. Class instances can also have methods (defined by its class) for modifying its state.\n",
    "\n",
    "Define Object ? \n",
    "\n",
    "Ans: Python is an object-oriented programming language. This defines a set of attributes that will characterize any object that is instantiated from this class. Object — An instance of a class. This is the realized version of the class, where the class is manifested in the program\n",
    "\n",
    "Define Attribute ? \n",
    "\n",
    "Ans: Everything in Python is an object, and almost everything has attributes and methods. In python, functions too are objects. So they have attributes like other objects. All functions have a built-in attribute __doc__, which returns the doc string defined in the function source code\n",
    "\n",
    "Define Behavior ? \n",
    "\n",
    "Ans: Python 2’s rounding behavior is “round to nearest, ties away from zero.” Python 3 uses “round to nearest, ties to nearest even,” sometimes called “banker’s rounding.” This change manifests in both the built-in round() function and in decimal.Decimal.quantize()."
   ]
  },
  {
   "cell_type": "code",
   "execution_count": 1,
   "metadata": {},
   "outputs": [
    {
     "name": "stdout",
     "output_type": "stream",
     "text": [
      "Your car Details are.. \n",
      " Mehran 2019 white KV-7448 50000\n",
      "Your car Details are.. \n",
      " Margala 2016 White TZ-4289 200000\n",
      "Your car Details are.. \n",
      " Toyota 2015 White VX-4228 100000\n",
      "Your car Details are.. \n",
      " Cultus 2014 Blue MN-6677 500000\n",
      "Your car Details are.. \n",
      " Alto 2010 Silver PE-5566 700000\n"
     ]
    }
   ],
   "source": [
    "class Car:\n",
    "    def __init__(self, model, color, name, numberplate, price):\n",
    "        self.model = model\n",
    "        self.color = color\n",
    "        self.name = name\n",
    "        self.numberplate = numberplate\n",
    "        self.price = price\n",
    "\n",
    "\n",
    "    def display(self):\n",
    "        print(f\"Your car Details are.. \\n {self.name} {self.model} {self.color} {self.numberplate} {self.price}\")\n",
    "\n",
    "\n",
    "Mehran = Car(2019, \"white\", \"Mehran\", \"KV-7448\", 50000)\n",
    "Margala = Car(2016, \"White\", \"Margala\", \"TZ-4289\", 200000)\n",
    "Toyota = Car(2015, \"White\", \"Toyota\", \"VX-4228\", 100000)\n",
    "Cultus = Car(2014, \"Blue\", \"Cultus\", \"MN-6677\", 500000)\n",
    "Alto = Car(2010, \"Silver\", \"Alto\", \"PE-5566\", 700000)\n",
    "\n",
    "Mehran.display()\n",
    "Margala.display()\n",
    "Toyota.display()\n",
    "Cultus.display()\n",
    "Alto.display()\n"
   ]
  },
  {
   "cell_type": "code",
   "execution_count": null,
   "metadata": {},
   "outputs": [],
   "source": []
  }
 ],
 "metadata": {
  "kernelspec": {
   "display_name": "Python 3",
   "language": "python",
   "name": "python3"
  },
  "language_info": {
   "codemirror_mode": {
    "name": "ipython",
    "version": 3
   },
   "file_extension": ".py",
   "mimetype": "text/x-python",
   "name": "python",
   "nbconvert_exporter": "python",
   "pygments_lexer": "ipython3",
   "version": "3.7.3"
  }
 },
 "nbformat": 4,
 "nbformat_minor": 2
}
