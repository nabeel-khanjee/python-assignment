{
 "cells": [
  {
   "cell_type": "code",
   "execution_count": 9,
   "metadata": {},
   "outputs": [
    {
     "name": "stdout",
     "output_type": "stream",
     "text": [
      "{'firstname': 'Lionel', 'lastname': 'Messi', 'age': 32, 'city': 'Barcelona', 'qualification': 'high academic level'}\n",
      "{'firstname': 'Lionel', 'lastname': 'Messi', 'age': 32, 'city': 'Barcelona'}\n"
     ]
    }
   ],
   "source": [
    "dict = {\n",
    "    \"firstname\": \"Lionel\",\n",
    "    \"lastname\": \"Messi\",\n",
    "    \"age\": 32,\n",
    "    \"city\": \"Barcelona\",\n",
    "}\n",
    "\n",
    "dict1 = {\n",
    "    \"qualification\": \"high academic level\",\n",
    "        }\n",
    "\n",
    "dict.update(dict1)\n",
    "print(dict)\n",
    "\n",
    "del dict[\"qualification\"]\n",
    "print(dict)"
   ]
  },
  {
   "cell_type": "code",
   "execution_count": 14,
   "metadata": {},
   "outputs": [
    {
     "name": "stdout",
     "output_type": "stream",
     "text": [
      "{'Country': 'Pakistan', 'Population': '2.5 billion', 'Fact': 'Karachi famous for its food'}\n",
      "{'Country': 'England', 'Population': '55.98 million', 'Fact': 'London Has 170 Museums'}\n",
      "{'Country': 'Spain', 'Population': '46.66 million', 'Fact': 'Barcelona is the capital of Catalonia'}\n"
     ]
    }
   ],
   "source": [
    "cities = {\n",
    "    \"city1\": {\n",
    "        \"Country\": \"Pakistan\",\n",
    "        \"Population\": \"2.5 billion\",\n",
    "        \"Fact\": \"Karachi famous for its food\",\n",
    "    },\n",
    "    \n",
    "    \"city2\": {\n",
    "        \"Country\": \"England\",\n",
    "        \"Population\": \"55.98 million\",\n",
    "        \"Fact\": \"London Has 170 Museums\",\n",
    "    },\n",
    "    \n",
    "    \"city3\": {\n",
    "        \"Country\": \"Spain\",\n",
    "        \"Population\": \"46.66 million\",\n",
    "        \"Fact\": \"Barcelona is the capital of Catalonia\",\n",
    "    },\n",
    "}\n",
    "\n",
    "\n",
    "print(cities[\"city1\"])\n",
    "print(cities[\"city2\"])\n",
    "print(cities[\"city3\"])"
   ]
  },
  {
   "cell_type": "code",
   "execution_count": 17,
   "metadata": {},
   "outputs": [
    {
     "name": "stdout",
     "output_type": "stream",
     "text": [
      "How old are you?\n",
      "Enter 'quit' when you are finished. 19\n",
      "  Your ticket is $15.\n",
      "How old are you?\n",
      "Enter 'quit' when you are finished. quit\n"
     ]
    }
   ],
   "source": [
    "prompt = \"How old are you?\"\n",
    "prompt += \"\\nEnter 'quit' when you are finished. \"\n",
    "\n",
    "while True:\n",
    "    age = input(prompt)\n",
    "    if age == 'quit':\n",
    "        break\n",
    "    age = int(age)\n",
    "\n",
    "    if age < 3:\n",
    "        print(\"  You get in free!\")\n",
    "    elif age < 13:\n",
    "        print(\"  Your ticket is $10.\")\n",
    "    else:\n",
    "        print(\"  Your ticket is $15.\")"
   ]
  },
  {
   "cell_type": "code",
   "execution_count": 23,
   "metadata": {},
   "outputs": [
    {
     "name": "stdout",
     "output_type": "stream",
     "text": [
      "One of my favorite books is Alice in Wonderland\n"
     ]
    }
   ],
   "source": [
    "def favorite_book(title):\n",
    "    print(\"One of my favorite books is\" \" \" + title)\n",
    "    \n",
    "favorite_book(\"Alice in Wonderland\")"
   ]
  },
  {
   "cell_type": "code",
   "execution_count": 5,
   "metadata": {},
   "outputs": [
    {
     "name": "stdout",
     "output_type": "stream",
     "text": [
      "Welcome to the number guessing game, try to guess the number - between 1 and 30\n",
      "Guess: 7\n",
      "Guess Higher\n",
      "Guess: 10\n",
      "Correct\n"
     ]
    }
   ],
   "source": [
    "import random\n",
    " \n",
    "print(\"Welcome to the number guessing game, try to guess the number - between 1 and 30\")\n",
    " \n",
    "rand_num = random.randint(1, 30)\n",
    " \n",
    "def main():\n",
    "    guess = int(input(\"Guess: \"))\n",
    " \n",
    "    if guess == rand_num:\n",
    "        print(\"Correct\")\n",
    "    if guess > rand_num:\n",
    "        print(\"Guess Lower\")\n",
    "        main()\n",
    "    if guess < rand_num:\n",
    "        print(\"Guess Higher\")\n",
    "        main()\n",
    " \n",
    "main()"
   ]
  },
  {
   "cell_type": "code",
   "execution_count": null,
   "metadata": {},
   "outputs": [],
   "source": []
  },
  {
   "cell_type": "code",
   "execution_count": null,
   "metadata": {},
   "outputs": [],
   "source": []
  }
 ],
 "metadata": {
  "kernelspec": {
   "display_name": "Python 3",
   "language": "python",
   "name": "python3"
  },
  "language_info": {
   "codemirror_mode": {
    "name": "ipython",
    "version": 3
   },
   "file_extension": ".py",
   "mimetype": "text/x-python",
   "name": "python",
   "nbconvert_exporter": "python",
   "pygments_lexer": "ipython3",
   "version": "3.7.3"
  }
 },
 "nbformat": 4,
 "nbformat_minor": 2
}
